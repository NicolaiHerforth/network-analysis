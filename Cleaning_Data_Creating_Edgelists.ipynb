{
 "cells": [
  {
   "cell_type": "code",
   "execution_count": 11,
   "metadata": {},
   "outputs": [],
   "source": [
    "import networkx as nx\n",
    "import csv\n",
    "import numpy as np\n",
    "from collections import Counter\n",
    "import collections\n",
    "import pandas as pd\n",
    "import matplotlib.pyplot as plt\n",
    "from scipy.stats import linregress\n",
    "import powerlaw as pl\n",
    "\n",
    "plt.rcParams['figure.figsize']=[15,7]"
   ]
  },
  {
   "cell_type": "code",
   "execution_count": 12,
   "metadata": {},
   "outputs": [],
   "source": [
    "def txt_to_csv(txt_file, skip_lines, comments):\n",
    "    '''Give txt file, directory to save the file, number(int) of lines to skip and\n",
    "    what is to be considered as comments.\n",
    "    Returns csv file.'''\n",
    "    \n",
    "    file = np.genfromtxt(txt_file+'.txt', skip_header=skip_lines, comments=comments)\n",
    "\n",
    "    with open(txt_file + '.csv', 'w') as csvfile:\n",
    "        for items in file:\n",
    "            csvfile.write(str(items[0]) + \",\" \n",
    "                      + str(items[1]) + \",\"\n",
    "                      + str(items[2]) + \",\" \n",
    "                      + str(items[3]) + \",\"\n",
    "                      + str(items[4]) + \",\" \n",
    "                      + str(items[5]) + \",\"\n",
    "                      + str(items[6]) + \",\" \n",
    "                      + str(items[7]) + \",\"\n",
    "                      + str(items[8]) + \",\"\n",
    "                      + str(items[9]) + \",\" \n",
    "                      + \"\\n\")"
   ]
  },
  {
   "cell_type": "code",
   "execution_count": 13,
   "metadata": {},
   "outputs": [],
   "source": [
    "def read_graph(file_path):\n",
    "\n",
    "    g = nx.DiGraph()\n",
    "    file = open(file_path+'.csv','r')\n",
    "    \n",
    "    for line in file:\n",
    "        split = line.split(',')\n",
    "        n1 = int(float(split[0].strip()))\n",
    "        n2 = int(float(split[1].strip()))\n",
    "        capacity = float(split[2].strip())\n",
    "        length = float(split[3].strip())\n",
    "        free_flow_time = float(split[4].strip())\n",
    "        b = float(split[5].strip())\n",
    "        power = float(split[6].strip())\n",
    "        speed_limit = float(split[7].strip())\n",
    "        toll = float(split[8].strip())\n",
    "        edge_type = float(split[9].strip())\n",
    "        \n",
    "        if n1 not in g.nodes():\n",
    "            g.add_node(n1, color = 'b', size = 50)\n",
    "        \n",
    "        if n2 not in g.nodes():\n",
    "            g.add_node(n2,color='b', size=50)\n",
    "        \n",
    "        g.add_edge(n1,\n",
    "                   n2,\n",
    "                   capacity=capacity,\n",
    "                   length=length, \n",
    "                   free_flow_time=free_flow_time,\n",
    "                   b=b,\n",
    "                   power=power,\n",
    "                   speed_limit=speed_limit,\n",
    "                   toll=toll,\n",
    "                   edge_type=edge_type)\n",
    "            \n",
    "    file.close()\n",
    "    return g"
   ]
  },
  {
   "cell_type": "code",
   "execution_count": null,
   "metadata": {},
   "outputs": [],
   "source": []
  },
  {
   "cell_type": "code",
   "execution_count": 14,
   "metadata": {},
   "outputs": [],
   "source": [
    "def create_graph(graph1, graph2):\n",
    "    new_graph = nx.compose(graph1,graph2)\n",
    "    return new_graph"
   ]
  },
  {
   "cell_type": "code",
   "execution_count": 15,
   "metadata": {},
   "outputs": [],
   "source": [
    "def create_big_graph(graph_list):\n",
    "    \n",
    "    complete_graph = nx.DiGraph()\n",
    "    \n",
    "    for graph in graph_list:\n",
    "        complete_graph = create_graph(graph,complete_graph)\n",
    "    \n",
    "    return complete_graph"
   ]
  },
  {
   "cell_type": "code",
   "execution_count": 16,
   "metadata": {},
   "outputs": [],
   "source": [
    "def read_graph_cap(file_path):\n",
    "\n",
    "    g = nx.DiGraph()\n",
    "    file = open(file_path+'.csv','r')\n",
    "    \n",
    "    for line in file:\n",
    "        split = line.split(',')\n",
    "        n1 = int(float(split[0].strip()))\n",
    "        n2 = int(float(split[1].strip()))\n",
    "        c = float(split[2].strip())\n",
    "        if c == 999999.0:\n",
    "            capacity = 1309\n",
    "        else:\n",
    "            capacity = c\n",
    "\n",
    "        if n1 not in g.nodes():\n",
    "            g.add_node(n1, color = 'b', size = 50)\n",
    "        \n",
    "        if n2 not in g.nodes():\n",
    "            g.add_node(n2,color='b', size=50)\n",
    "        \n",
    "        g.add_edge(n1,\n",
    "                   n2,\n",
    "                   capacity=capacity,\n",
    "                   cars = capacity//4)\n",
    "            \n",
    "    file.close()\n",
    "    return g"
   ]
  },
  {
   "cell_type": "markdown",
   "metadata": {},
   "source": [
    "## Full data"
   ]
  },
  {
   "cell_type": "code",
   "execution_count": 7,
   "metadata": {},
   "outputs": [],
   "source": [
    "berlin_center_dg = read_graph(\"./RoadsData/berlin-center_net\")\n",
    "mitte_center_dg = read_graph(\"./RoadsData/berlin-mitte-center_net\")\n",
    "mitte_friedrichshain_dg = read_graph(\"./RoadsData/berlin-mitte-prenzlauerberg-friedrichshain-center_net\")\n",
    "prenzlauerberg_dg = read_graph(\"./RoadsData/berlin-prenzlauerberg-center_net\")\n",
    "tiergarten_dg = read_graph(\"./RoadsData/berlin-tiergarten_net\")\n",
    "friedrichshain_center_dg = read_graph(\"./RoadsData/friedrichshain-center_net\")\n",
    "\n",
    "graphs = []\n",
    "graphs.extend([berlin_center_dg, mitte_center_dg, mitte_friedrichshain_dg, prenzlauerberg_dg, tiergarten_dg, friedrichshain_center_dg])\n",
    "\n",
    "complete_berlin_dg = create_big_graph(graphs)\n",
    "\n",
    "nx.write_edgelist(complete_berlin_dg, 'complete_networld.edgelist')"
   ]
  },
  {
   "cell_type": "markdown",
   "metadata": {},
   "source": [
    "## Capacity data"
   ]
  },
  {
   "cell_type": "code",
   "execution_count": 20,
   "metadata": {},
   "outputs": [],
   "source": [
    "berlin_center_dg = read_graph_cap(\"./RoadsData/berlin-center_net\")\n",
    "nx.write_edgelist(berlin_center_dg,\"./Edgelists/berlin_center_dg_cap.edgelist\")\n",
    "\n",
    "mitte_center_dg = read_graph_cap(\"./RoadsData/berlin-mitte-center_net\")\n",
    "nx.write_edgelist(mitte_center_dg,\"./Edgelists/mitte_center_dg_cap.edgelist\")\n",
    "\n",
    "mitte_friedrichshain_dg = read_graph_cap(\"./RoadsData/berlin-mitte-prenzlauerberg-friedrichshain-center_net\")\n",
    "nx.write_edgelist(mitte_friedrichshain_dg,\"./Edgelists/mitte_friedrichshain_dg_cap.edgelist\")\n",
    "\n",
    "prenzlauerberg_dg = read_graph_cap(\"./RoadsData/berlin-prenzlauerberg-center_net\")\n",
    "nx.write_edgelist(prenzlauerberg_dg,\"./Edgelists/prenzlauerberg_dg_cap.edgelist\")\n",
    "\n",
    "tiergarten_dg = read_graph_cap(\"./RoadsData/berlin-tiergarten_net\")\n",
    "nx.write_edgelist(tiergarten_dg,\"./Edgelists/tiergarten_dg_cap.edgelist\")\n",
    "\n",
    "friedrichshain_center_dg = read_graph_cap(\"./RoadsData/friedrichshain-center_net\")\n",
    "nx.write_edgelist(friedrichshain_center_dg,\"./Edgelists/friedrichshain_center_dg_cap.edgelist\")\n",
    "\n",
    "graphs = []\n",
    "graphs.extend([berlin_center_dg, mitte_center_dg, mitte_friedrichshain_dg, prenzlauerberg_dg, tiergarten_dg, friedrichshain_center_dg])\n",
    "\n",
    "complete_berlin_dg_cap = create_big_graph(graphs)\n",
    "\n",
    "nx.write_edgelist(complete_berlin_dg_cap, './Edgelists/complete_networld_cap.edgelist')"
   ]
  },
  {
   "cell_type": "code",
   "execution_count": null,
   "metadata": {},
   "outputs": [],
   "source": []
  },
  {
   "cell_type": "code",
   "execution_count": null,
   "metadata": {},
   "outputs": [],
   "source": []
  }
 ],
 "metadata": {
  "kernelspec": {
   "display_name": "Python 3",
   "language": "python",
   "name": "python3"
  },
  "language_info": {
   "codemirror_mode": {
    "name": "ipython",
    "version": 3
   },
   "file_extension": ".py",
   "mimetype": "text/x-python",
   "name": "python",
   "nbconvert_exporter": "python",
   "pygments_lexer": "ipython3",
   "version": "3.5.2"
  }
 },
 "nbformat": 4,
 "nbformat_minor": 2
}
