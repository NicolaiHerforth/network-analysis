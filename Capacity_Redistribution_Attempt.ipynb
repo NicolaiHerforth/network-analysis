{
 "cells": [
  {
   "cell_type": "code",
   "execution_count": 48,
   "metadata": {},
   "outputs": [],
   "source": [
    "import networkx as nx\n",
    "import random\n",
    "import numpy as np\n",
    "import time as time\n",
    "\n",
    "import matplotlib.pyplot as plt\n",
    "plt.rcParams['figure.figsize']=[15,7]\n",
    "#Girvan Newman Algorithm for edge removal\n",
    "#Get components at every edge removal\n",
    "#Finding the right cuts: Calc Modularity for every cut, when you get highest modularity, that's the community partition\n",
    "# Highest peak == optimal partition\n",
    "#A peak may be an interesting cut\n",
    "#Time efficiency if BFS=O(|edges|)\n",
    "# Edge betweeness O(|V||E|)\n",
    "#Every time we remove an edge we have to recalculate edge betweeness O(|V|*|E|*|E|)\n"
   ]
  },
  {
   "cell_type": "code",
   "execution_count": 49,
   "metadata": {},
   "outputs": [],
   "source": [
    "g = nx.read_edgelist(\"./Edgelists/complete_networld_cap.edgelist\", create_using = nx.DiGraph())"
   ]
  },
  {
   "cell_type": "code",
   "execution_count": 50,
   "metadata": {},
   "outputs": [],
   "source": [
    "g = nx.read_edgelist(\"./Edgelists/friedrichshain_center_dg_cap.edgelist\", create_using = nx.DiGraph())"
   ]
  },
  {
   "cell_type": "code",
   "execution_count": 102,
   "metadata": {},
   "outputs": [],
   "source": [
    "def random_walk(g):\n",
    "    edge_count = {}\n",
    "    n = len(g.nodes)\n",
    "    for i in range(5000):\n",
    "        start = str(np.random.randint(1,n))\n",
    "        status = True\n",
    "        while status == True:\n",
    "            for j in range(1,9):\n",
    "                node_neighbors = list(g.neighbors(start))\n",
    "                if len(node_neighbors) != 0:\n",
    "                    N = random.choice(list(g.neighbors(start)))\n",
    "                    pair = start + ' ' + N\n",
    "\n",
    "                    try: \n",
    "                        edge_count[pair] += 1\n",
    "                    except KeyError as e:\n",
    "                        edge_count[pair] = 1   \n",
    "                    start = N\n",
    "\n",
    "                else:\n",
    "                    status = False\n",
    "            status = False \n",
    "    return edge_count\n",
    "            "
   ]
  },
  {
   "cell_type": "code",
   "execution_count": 103,
   "metadata": {},
   "outputs": [],
   "source": [
    "def avg_list(alist):\n",
    "    avg_list = [sum(elem)/len(elem) for elem in zip(*alist)]\n",
    "    \n",
    "    return avg_list"
   ]
  },
  {
   "cell_type": "code",
   "execution_count": 104,
   "metadata": {},
   "outputs": [
    {
     "data": {
      "text/plain": [
       "224"
      ]
     },
     "execution_count": 104,
     "metadata": {},
     "output_type": "execute_result"
    }
   ],
   "source": [
    "len(g.node())"
   ]
  },
  {
   "cell_type": "code",
   "execution_count": 105,
   "metadata": {},
   "outputs": [],
   "source": [
    "def attributes(g):\n",
    "    total_cars = 0\n",
    "    edge_cap = nx.get_edge_attributes(g,'capacity')\n",
    "    edge_cars = nx.get_edge_attributes(g,'cars')\n",
    "    for i in edge_cars:\n",
    "        total_cars += edge_cars[i]\n",
    "    \n",
    "    return total_cars, edge_cap, edge_cars\n",
    "        "
   ]
  },
  {
   "cell_type": "code",
   "execution_count": 106,
   "metadata": {},
   "outputs": [],
   "source": [
    "def res_test(edgelist, runs, redistribute, sort):\n",
    "    \n",
    "    g = nx.read_edgelist(edgelist, create_using = nx.DiGraph())\n",
    "    avg_weak_comp, avg_strong_comp, avg_total_comp, avg_edge_removal_pct = [], [], [], []\n",
    "    total_edges = len(g.edges)\n",
    "    \n",
    "    for run in range(runs):\n",
    "        print(\"Run: \", run+1)\n",
    "        \n",
    "        g = nx.read_edgelist(edgelist, create_using = nx.DiGraph())\n",
    "        \n",
    "        if redistribute:\n",
    "            total_cars, g_edge_cap, g_edge_cars = attributes(g)\n",
    "            stuck_cars = 0\n",
    "            alist = [(0,0)]\n",
    "            new_list = [(0,stuck_cars)]\n",
    "            \n",
    "        \n",
    "        edge_count = random_walk(g)\n",
    "        \n",
    "        if sort:\n",
    "            edge_count = sorted(edge_count, key=edge_count.get, reverse=True)\n",
    "        \n",
    "        # nr. of weak, strong, weak+strong comp and pct. of edges removed from g\n",
    "        total_comp, weak_comp, strong_comp, edge_removal_pct = [], [], [], []\n",
    "        weak_comp.append(nx.number_weakly_connected_components(g))\n",
    "        strong_comp.append(nx.number_strongly_connected_components(g))\n",
    "        total_comp.append(weak_comp[0] + strong_comp[0])\n",
    "        edge_removal_pct.append(0/len(g.edges())*100) #start of our list: is 0.0 as we haven't remove any edges\n",
    "        total_edge_count = len(g.edges())\n",
    "\n",
    "        for index, elem in enumerate(edge_count):\n",
    "            elem = elem.split(' ')\n",
    "            start_node = elem[0]\n",
    "            end_node = elem[1]\n",
    "            \n",
    "            if g.has_edge(start_node, end_node):\n",
    "                g.remove_edge(start_node,end_node)\n",
    "            else:\n",
    "                stuck_cars += g_edge_cars[start_node,end_node]\n",
    "                removed_edges = total_edges-len(g.edges)\n",
    "                alist.append((removed_edges,stuck_cars))\n",
    "                continue\n",
    "            \n",
    "            #The redistribution attempts to add the cars of the edge we just removed to the starting node's other edges, \n",
    "            #if it has any and only if they have a path to the end node. \n",
    "            \n",
    "            if redistribute:\n",
    "                cars = g_edge_cars[start_node,end_node]\n",
    "                start_node_neighbors = g.successors(start_node) #list of the neighbors of our starting node\n",
    "                neighbors_w_path = {}\n",
    "\n",
    "                for successor in start_node_neighbors:\n",
    "                    have_path = nx.has_path(g, successor, end_node) #return True if there is a path from successor to end_node\n",
    "                    if have_path:\n",
    "                        #add the neighboring node as the key with (start_node, itself) as the val, representing the edge betwn them.\n",
    "                        neighbors_w_path[successor] = start_node, successor \n",
    "                    else:\n",
    "                        continue\n",
    "\n",
    "                if len(neighbors_w_path) != 0:\n",
    "                    cars_frac = cars/len(neighbors_w_path) #divide the cars equally among the edges with a path to the end node\n",
    "                    fail_set = set()\n",
    "                    stuck_cars, alist, new_list = redistribute_cars(g,start_node, cars_frac, neighbors_w_path,g_edge_cars, g_edge_cap, fail_set, stuck_cars, alist, total_edges, new_list)\n",
    "\n",
    "                else:\n",
    "                    stuck_cars += cars #no path to the end node, the cars are thus stuck\n",
    "                    removed_edges = total_edges-len(g.edges)\n",
    "                    alist.append((removed_edges,stuck_cars))\n",
    "                    new_list.append((new_list[-1][0],new_list[-1][1]+cars))\n",
    "            \n",
    "            if index % 1 == 0:\n",
    "\n",
    "                weakly_comp = nx.number_weakly_connected_components(g)\n",
    "                strongly_comp = nx.number_strongly_connected_components(g)\n",
    "\n",
    "                total_comp.append(weakly_comp + strongly_comp)\n",
    "                weak_comp.append(weakly_comp)\n",
    "                strong_comp.append(strongly_comp)\n",
    "\n",
    "                edge_removal_pct_value = index/total_edge_count * 100\n",
    "                edge_removal_pct.append(edge_removal_pct_value)\n",
    "\n",
    "        avg_weak_comp.append(weak_comp)\n",
    "        avg_strong_comp.append(strong_comp)\n",
    "        avg_total_comp.append(total_comp)\n",
    "        avg_edge_removal_pct.append(edge_removal_pct)\n",
    "\n",
    "    final_weak = avg_list(avg_weak_comp)\n",
    "    final_strong =  avg_list(avg_strong_comp)\n",
    "    final_total = avg_list(avg_total_comp)\n",
    "    final_percentage = avg_list(avg_edge_removal_pct)\n",
    "    \n",
    "    plt.plot(final_percentage, final_weak, label=\"weak\")\n",
    "    plt.plot(final_percentage, final_strong, label=\"strong\")\n",
    "    plt.plot(final_percentage, final_total, label=\"total\")\n",
    "    plt.xlabel('Edge Removal Percentage')\n",
    "    plt.ylabel('Number of Components')\n",
    "    plt.legend()\n",
    "    plt.show()\n",
    "    plt.close()\n",
    "    \n",
    "    return stuck_cars, alist, removed_edges, new_list"
   ]
  },
  {
   "cell_type": "code",
   "execution_count": 107,
   "metadata": {},
   "outputs": [],
   "source": [
    "def redistribute_cars(g,start_node, cars_frac, neighbor_w_path, g_edge_cars, g_edge_cap, fail_set, stuck_cars, alist, total_edges, new_list):\n",
    "    new_list.append((new_list[-1][0]+1,new_list[-1][1]))\n",
    "    for successor in neighbor_w_path:\n",
    "        end_node = neighbor_w_path[successor][1]\n",
    "        if g_edge_cars[start_node, end_node] + cars_frac > g_edge_cap[start_node,end_node]:\n",
    "            if successor in fail_set:\n",
    "                continue\n",
    "            else:\n",
    "                fail_set.add(successor)\n",
    "                \n",
    "                if len(fail_set) != len(neighbor_w_path):\n",
    "                    extra_cars = cars_frac/(len(neighbor_w_path)-len(fail_set))\n",
    "                    g.remove_edge(start_node,end_node)\n",
    "                    removed_edges = total_edges - len(g.edges)\n",
    "                    alist.append((removed_edges,stuck_cars))\n",
    "                    stuck_cars, alist, new_list = redistribute_cars(g,start_node, extra_cars, neighbor_w_path, g_edge_cars, g_edge_cap, fail_set, stuck_cars, alist,total_edges, new_list)\n",
    "                else:\n",
    "                    stuck_cars += cars_frac\n",
    "                    removed_edges = total_edges - len(g.edges) \n",
    "                    alist.append((removed_edges, stuck_cars))\n",
    "                    new_list.append((new_list[-1][0],new_list[-1][1]+cars_frac))\n",
    "        else:\n",
    "            g_edge_cars[start_node,end_node] += cars_frac\n",
    "        \n",
    "    return stuck_cars, alist, new_list"
   ]
  },
  {
   "cell_type": "code",
   "execution_count": 109,
   "metadata": {},
   "outputs": [
    {
     "name": "stdout",
     "output_type": "stream",
     "text": [
      "Run:  1\n"
     ]
    },
    {
     "data": {
      "image/png": "[encoded data removed]",
      "text/plain": [
       "<matplotlib.figure.Figure at 0x7fbad237de48>"
      ]
     },
     "metadata": {},
     "output_type": "display_data"
    },
    {
     "name": "stdout",
     "output_type": "stream",
     "text": [
      "2602.0606474876404\n"
     ]
    }
   ],
   "source": [
    "start = time.time()\n",
    "stuck_cars, alist, removed_edges, new_list  = res_test(\"./Edgelists/complete_networld_cap.edgelist\", runs=1, redistribute=True, sort=True)\n",
    "end = time.time() - start\n",
    "print(end)"
   ]
  },
  {
   "cell_type": "code",
   "execution_count": 111,
   "metadata": {},
   "outputs": [
    {
     "data": {
      "image/png": "[encoded data removed]",
      "text/plain": [
       "<matplotlib.figure.Figure at 0x7fbad30d5a20>"
      ]
     },
     "metadata": {},
     "output_type": "display_data"
    }
   ],
   "source": [
    "removed_list = []\n",
    "stuck_list = []\n",
    "for i in range(len(alist)):\n",
    "    removed_list.append(alist[i][0])\n",
    "    stuck_list.append(alist[i][1])\n",
    "plt.plot(removed_list,stuck_list, label=\"Cars Stuck\")\n",
    "plt.xlabel(\"Edges Removed\")\n",
    "plt.ylabel(\"Stuck Cars\")\n",
    "plt.legend()\n",
    "plt.show()\n",
    "plt.close()"
   ]
  },
  {
   "cell_type": "code",
   "execution_count": 95,
   "metadata": {},
   "outputs": [
    {
     "data": {
      "image/png": "[encoded data removed]",
      "text/plain": [
       "<matplotlib.figure.Figure at 0x7fbad6a90550>"
      ]
     },
     "metadata": {},
     "output_type": "display_data"
    }
   ],
   "source": [
    "redistributions = []\n",
    "stuck_list = []\n",
    "for i in range(len(new_list)):\n",
    "    redistributions.append(new_list[i][0])\n",
    "    stuck_list.append(new_list[i][1])\n",
    "plt.plot(redistributions,stuck_list,label=\"Cars Stuck\")\n",
    "plt.xlabel(\"Redistributions\")\n",
    "plt.ylabel(\"Stuck Cars\")\n",
    "plt.legend()\n",
    "plt.show()\n",
    "plt.close()"
   ]
  },
  {
   "cell_type": "code",
   "execution_count": null,
   "metadata": {},
   "outputs": [],
   "source": [
    "for i in alist:\n",
    "    print(i)"
   ]
  },
  {
   "cell_type": "code",
   "execution_count": null,
   "metadata": {},
   "outputs": [],
   "source": []
  },
  {
   "cell_type": "code",
   "execution_count": null,
   "metadata": {},
   "outputs": [],
   "source": []
  },
  {
   "cell_type": "code",
   "execution_count": null,
   "metadata": {},
   "outputs": [],
   "source": [
    "complete_networld_cap.edgelist"
   ]
  },
  {
   "cell_type": "code",
   "execution_count": null,
   "metadata": {},
   "outputs": [],
   "source": [
    "g = nx.read_edgelist(\"complete_networld_cap.edgelist\", create_using = nx.DiGraph())"
   ]
  },
  {
   "cell_type": "code",
   "execution_count": null,
   "metadata": {},
   "outputs": [],
   "source": [
    "res_test(g, runs=1, redistribute=False, sort=False, extra_walks=False)"
   ]
  },
  {
   "cell_type": "code",
   "execution_count": null,
   "metadata": {},
   "outputs": [],
   "source": []
  },
  {
   "cell_type": "code",
   "execution_count": null,
   "metadata": {},
   "outputs": [],
   "source": [
    "G = nx.Graph()"
   ]
  },
  {
   "cell_type": "code",
   "execution_count": null,
   "metadata": {},
   "outputs": [],
   "source": [
    "G.add_nodes_from([2,3])\n",
    "G.add_nodes_from(range(100,110))\n",
    "H=nx.Graph()\n",
    "H.add_path([0,1,2,3,4,5,6,7,8,9])\n",
    "G.add_nodes_from(H)"
   ]
  },
  {
   "cell_type": "code",
   "execution_count": null,
   "metadata": {},
   "outputs": [],
   "source": [
    "G.nodes()\n",
    "G.add_edges_from([(1,2),(1,3)])"
   ]
  },
  {
   "cell_type": "code",
   "execution_count": null,
   "metadata": {},
   "outputs": [],
   "source": [
    "G.edges()"
   ]
  },
  {
   "cell_type": "code",
   "execution_count": null,
   "metadata": {},
   "outputs": [],
   "source": [
    "x = 2\n",
    "def remove(G, x):\n",
    "    G.nodes()\n",
    "    G.remove_edge(1,2)\n",
    "    print(G.edges())\n",
    "    x += 1\n",
    "    print(x)\n",
    "remove(G, x)\n",
    "print(x)"
   ]
  },
  {
   "cell_type": "code",
   "execution_count": null,
   "metadata": {},
   "outputs": [],
   "source": [
    "G.edges"
   ]
  },
  {
   "cell_type": "code",
   "execution_count": null,
   "metadata": {},
   "outputs": [],
   "source": [
    "x = [1,2,3]\n",
    "plt.plot(x)\n",
    "plt.show()\n",
    "plt.close()"
   ]
  },
  {
   "cell_type": "code",
   "execution_count": null,
   "metadata": {},
   "outputs": [],
   "source": []
  }
 ],
 "metadata": {
  "kernelspec": {
   "display_name": "Python 3",
   "language": "python",
   "name": "python3"
  },
  "language_info": {
   "codemirror_mode": {
    "name": "ipython",
    "version": 3
   },
   "file_extension": ".py",
   "mimetype": "text/x-python",
   "name": "python",
   "nbconvert_exporter": "python",
   "pygments_lexer": "ipython3",
   "version": "3.5.2"
  }
 },
 "nbformat": 4,
 "nbformat_minor": 2
}
