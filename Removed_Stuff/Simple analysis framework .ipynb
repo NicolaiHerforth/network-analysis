{
 "cells": [
  {
   "cell_type": "code",
   "execution_count": 12,
   "metadata": {},
   "outputs": [],
   "source": [
    "import numpy as np\n",
    "import pandas as pd\n",
    "import networkx as nx\n",
    "import csv\n",
    "import matplotlib.pyplot as plt\n",
    "import collections\n",
    "import re"
   ]
  },
  {
   "cell_type": "markdown",
   "metadata": {},
   "source": [
    "# Berlin Center"
   ]
  },
  {
   "cell_type": "code",
   "execution_count": 27,
   "metadata": {},
   "outputs": [
    {
     "name": "stdout",
     "output_type": "stream",
     "text": [
      "RoadsData/berlin-center_net\n"
     ]
    }
   ],
   "source": [
    "datalocation = 'RoadsData/berlin-center_net.txt'\n",
    "name = re.findall(\"(.*)[.]\",datalocation)[0]\n",
    "my_data = np.genfromtxt(datalocation, skip_header = 9, comments=\";\")"
   ]
  },
  {
   "cell_type": "code",
   "execution_count": 4,
   "metadata": {},
   "outputs": [],
   "source": [
    "with open(name + '.csv', 'w') as csvfile:\n",
    "    for items in my_data:\n",
    "        csvfile.write(str(items[0]) + \",\" \n",
    "                      + str(items[1]) + \",\"\n",
    "                      + str(items[2]) + \",\" \n",
    "                      + str(items[3]) + \",\"\n",
    "                      + str(items[4]) + \",\" \n",
    "                      + str(items[5]) + \",\"\n",
    "                      + str(items[6]) + \",\" \n",
    "                      + str(items[7]) + \",\"\n",
    "                      + str(items[8]) + \",\"\n",
    "                      + str(items[9]) + \",\" \n",
    "                      + \"\\n\")"
   ]
  },
  {
   "cell_type": "code",
   "execution_count": 5,
   "metadata": {},
   "outputs": [],
   "source": [
    "def read_graph(file_path):\n",
    "\n",
    "    g = nx.DiGraph()\n",
    "    file = open(file_path,'r')\n",
    "    \n",
    "    for line in file:\n",
    "        split = line.split(',')\n",
    "        n1 = int(float(split[0].strip()))\n",
    "        n2 = int(float(split[1].strip()))\n",
    "        capacity = float(split[2].strip())\n",
    "        length = float(split[3].strip())\n",
    "        free_flow_time = float(split[4].strip())\n",
    "        b = float(split[5].strip())\n",
    "        power = float(split[6].strip())\n",
    "        speed_limit = float(split[7].strip())\n",
    "        toll = float(split[8].strip())\n",
    "        edge_type = float(split[9].strip())\n",
    "        \n",
    "        if n1 not in g.nodes():\n",
    "            g.add_node(n1, color = 'b', size = 50)\n",
    "        \n",
    "        if n2 not in g.nodes():\n",
    "            g.add_node(n2,color='b', size=50)\n",
    "        \n",
    "        g.add_edge(n1,\n",
    "                   n2,\n",
    "                   capacity=capacity,\n",
    "                   length=length, \n",
    "                   free_flow_time=free_flow_time,\n",
    "                   b=b,\n",
    "                   power=power,\n",
    "                   speed_limit=speed_limit,\n",
    "                   toll=toll,\n",
    "                   edge_type=edge_type)\n",
    "            \n",
    "    file.close()\n",
    "    return g"
   ]
  },
  {
   "cell_type": "code",
   "execution_count": 6,
   "metadata": {},
   "outputs": [],
   "source": [
    "berlin_center_g = read_graph(name + '.csv')"
   ]
  },
  {
   "cell_type": "code",
   "execution_count": 7,
   "metadata": {},
   "outputs": [
    {
     "name": "stdout",
     "output_type": "stream",
     "text": [
      "# of nodes: 12981\n",
      "# of edges: 28370\n",
      "# of selfloops: 0\n",
      "Random cycle in G:\n",
      "[(1, 11000), (11000, 1)]\n",
      "G is a DAG: False\n",
      "G is a tree: False\n",
      "G's density: 0.02%\n",
      "G's reciprocity: 48.64%\n",
      "G's clustering coefficient = 0.21585039033673825\n",
      "G is a strongly connected graph: False\n",
      "G is a weakly connected graph: True\n",
      "# of nodes: 12981\n"
     ]
    }
   ],
   "source": [
    "print(\"# of nodes: %d\" % berlin_center_g.number_of_nodes())\n",
    "print(\"# of edges: %d\" % berlin_center_g.number_of_edges())\n",
    "print(\"# of selfloops: %d\" % berlin_center_g.number_of_selfloops())\n",
    "print(\"Random cycle in G:\")\n",
    "print(nx.find_cycle(berlin_center_g))\n",
    "print(\"G is a DAG: %s\" % nx.is_directed_acyclic_graph(berlin_center_g))\n",
    "print(\"G is a tree: %s\" % nx.is_tree(berlin_center_g))\n",
    "print(\"G's density: %1.2f%%\" % (100 * nx.density(berlin_center_g))) #density = number_of_edges / max_theoretical_number_of_edges\n",
    "print(\"G's reciprocity: %1.2f%%\" % (100 * nx.reciprocity(berlin_center_g))) #Reciprocity: share of connections going both ways in directed graph\n",
    "print(\"G's clustering coefficient = %s\" % nx.transitivity(berlin_center_g))\n",
    "print(\"G is a strongly connected graph: %s\" % nx.is_strongly_connected(berlin_center_g))\n",
    "print(\"G is a weakly connected graph: %s\" % nx.is_weakly_connected(berlin_center_g))\n",
    "\n",
    "g_comps = nx.weakly_connected_components(berlin_center_g)\n",
    "g_comp_nodes = next(g_comps)\n",
    "g_comp = berlin_center_g.subgraph(g_comp_nodes)\n",
    "print(\"# of nodes: %d\" % len(g_comp.nodes()))"
   ]
  },
  {
   "cell_type": "markdown",
   "metadata": {},
   "source": [
    "### Degree Histogram"
   ]
  },
  {
   "cell_type": "code",
   "execution_count": 8,
   "metadata": {},
   "outputs": [],
   "source": [
    "# Replace \"GRAPH\" with graph of interest throughout.\n",
    "def degree(GRAPH):\n",
    "    degree_sequence = sorted([d for n, d in GRAPH.degree()], reverse=True)  # degree sequence\n",
    "    # print \"Degree sequence\", degree_sequence\n",
    "    degreeCount = collections.Counter(degree_sequence)\n",
    "    deg, cnt = zip(*degreeCount.items())\n",
    "\n",
    "    fig, ax = plt.subplots()\n",
    "    plt.bar(deg, cnt, width=0.80, color='b')\n",
    "\n",
    "    plt.title(\"Degree Histogram\")\n",
    "    plt.ylabel(\"Count\")\n",
    "    plt.xlabel(\"Degree\")\n",
    "    ax.set_xticks([d + 0.4 for d in deg])\n",
    "    ax.set_xticklabels(deg)\n",
    "\n",
    "    # draw graph in inset\n",
    "    plt.axes([0.4, 0.4, 0.5, 0.5])\n",
    "    Gcc = sorted(nx.weakly_connected_component_subgraphs(GRAPH), key=len, reverse=True)[0]\n",
    "    pos = nx.spring_layout(GRAPH)\n",
    "    plt.axis('off')\n",
    "    nx.draw_networkx_nodes(GRAPH, pos, node_size=20)\n",
    "    nx.draw_networkx_edges(GRAPH, pos, alpha=0.4)\n",
    "\n",
    "    plt.show()"
   ]
  },
  {
   "cell_type": "code",
   "execution_count": 9,
   "metadata": {},
   "outputs": [
    {
     "name": "stderr",
     "output_type": "stream",
     "text": [
      "C:\\IntelPython3\\lib\\site-packages\\networkx\\drawing\\layout.py:499: RuntimeWarning: invalid value encountered in sqrt\n",
      "  distance = np.sqrt((delta**2).sum(axis=0))\n"
     ]
    },
    {
     "data": {
      "image/png": "[encoded data removed]",
      "text/plain": [
       "<Figure size 432x288 with 2 Axes>"
      ]
     },
     "metadata": {},
     "output_type": "display_data"
    }
   ],
   "source": [
    "degree(berlin_center_g)"
   ]
  },
  {
   "cell_type": "markdown",
   "metadata": {},
   "source": [
    "### Avg Node Connectivity"
   ]
  },
  {
   "cell_type": "code",
   "execution_count": 10,
   "metadata": {},
   "outputs": [
    {
     "ename": "KeyboardInterrupt",
     "evalue": "",
     "output_type": "error",
     "traceback": [
      "\u001b[1;31m---------------------------------------------------------------------------\u001b[0m",
      "\u001b[1;31mKeyboardInterrupt\u001b[0m                         Traceback (most recent call last)",
      "\u001b[1;32m<ipython-input-10-777a27110f78>\u001b[0m in \u001b[0;36m<module>\u001b[1;34m()\u001b[0m\n\u001b[1;32m----> 1\u001b[1;33m \u001b[0mnx\u001b[0m\u001b[1;33m.\u001b[0m\u001b[0maverage_node_connectivity\u001b[0m\u001b[1;33m(\u001b[0m\u001b[0mberlin_center_g\u001b[0m\u001b[1;33m)\u001b[0m\u001b[1;33m\u001b[0m\u001b[0m\n\u001b[0m",
      "\u001b[1;32mC:\\IntelPython3\\lib\\site-packages\\networkx\\algorithms\\connectivity\\connectivity.py\u001b[0m in \u001b[0;36maverage_node_connectivity\u001b[1;34m(G, flow_func)\u001b[0m\n\u001b[0;32m    411\u001b[0m     \u001b[0mnum\u001b[0m\u001b[1;33m,\u001b[0m \u001b[0mden\u001b[0m \u001b[1;33m=\u001b[0m \u001b[1;36m0\u001b[0m\u001b[1;33m,\u001b[0m \u001b[1;36m0\u001b[0m\u001b[1;33m\u001b[0m\u001b[0m\n\u001b[0;32m    412\u001b[0m     \u001b[1;32mfor\u001b[0m \u001b[0mu\u001b[0m\u001b[1;33m,\u001b[0m \u001b[0mv\u001b[0m \u001b[1;32min\u001b[0m \u001b[0miter_func\u001b[0m\u001b[1;33m(\u001b[0m\u001b[0mG\u001b[0m\u001b[1;33m,\u001b[0m \u001b[1;36m2\u001b[0m\u001b[1;33m)\u001b[0m\u001b[1;33m:\u001b[0m\u001b[1;33m\u001b[0m\u001b[0m\n\u001b[1;32m--> 413\u001b[1;33m         \u001b[0mnum\u001b[0m \u001b[1;33m+=\u001b[0m \u001b[0mlocal_node_connectivity\u001b[0m\u001b[1;33m(\u001b[0m\u001b[0mG\u001b[0m\u001b[1;33m,\u001b[0m \u001b[0mu\u001b[0m\u001b[1;33m,\u001b[0m \u001b[0mv\u001b[0m\u001b[1;33m,\u001b[0m \u001b[1;33m**\u001b[0m\u001b[0mkwargs\u001b[0m\u001b[1;33m)\u001b[0m\u001b[1;33m\u001b[0m\u001b[0m\n\u001b[0m\u001b[0;32m    414\u001b[0m         \u001b[0mden\u001b[0m \u001b[1;33m+=\u001b[0m \u001b[1;36m1\u001b[0m\u001b[1;33m\u001b[0m\u001b[0m\n\u001b[0;32m    415\u001b[0m \u001b[1;33m\u001b[0m\u001b[0m\n",
      "\u001b[1;32mC:\\IntelPython3\\lib\\site-packages\\networkx\\algorithms\\connectivity\\connectivity.py\u001b[0m in \u001b[0;36mlocal_node_connectivity\u001b[1;34m(G, s, t, flow_func, auxiliary, residual, cutoff)\u001b[0m\n\u001b[0;32m    208\u001b[0m         \u001b[0mkwargs\u001b[0m\u001b[1;33m[\u001b[0m\u001b[1;34m'cutoff'\u001b[0m\u001b[1;33m]\u001b[0m \u001b[1;33m=\u001b[0m \u001b[0mcutoff\u001b[0m\u001b[1;33m\u001b[0m\u001b[0m\n\u001b[0;32m    209\u001b[0m \u001b[1;33m\u001b[0m\u001b[0m\n\u001b[1;32m--> 210\u001b[1;33m     \u001b[1;32mreturn\u001b[0m \u001b[0mnx\u001b[0m\u001b[1;33m.\u001b[0m\u001b[0mmaximum_flow_value\u001b[0m\u001b[1;33m(\u001b[0m\u001b[0mH\u001b[0m\u001b[1;33m,\u001b[0m \u001b[1;34m'%sB'\u001b[0m \u001b[1;33m%\u001b[0m \u001b[0mmapping\u001b[0m\u001b[1;33m[\u001b[0m\u001b[0ms\u001b[0m\u001b[1;33m]\u001b[0m\u001b[1;33m,\u001b[0m \u001b[1;34m'%sA'\u001b[0m \u001b[1;33m%\u001b[0m \u001b[0mmapping\u001b[0m\u001b[1;33m[\u001b[0m\u001b[0mt\u001b[0m\u001b[1;33m]\u001b[0m\u001b[1;33m,\u001b[0m \u001b[1;33m**\u001b[0m\u001b[0mkwargs\u001b[0m\u001b[1;33m)\u001b[0m\u001b[1;33m\u001b[0m\u001b[0m\n\u001b[0m\u001b[0;32m    211\u001b[0m \u001b[1;33m\u001b[0m\u001b[0m\n\u001b[0;32m    212\u001b[0m \u001b[1;33m\u001b[0m\u001b[0m\n",
      "\u001b[1;32mC:\\IntelPython3\\lib\\site-packages\\networkx\\algorithms\\flow\\maxflow.py\u001b[0m in \u001b[0;36mmaximum_flow_value\u001b[1;34m(flowG, _s, _t, capacity, flow_func, **kwargs)\u001b[0m\n\u001b[0;32m    306\u001b[0m         \u001b[1;32mraise\u001b[0m \u001b[0mnx\u001b[0m\u001b[1;33m.\u001b[0m\u001b[0mNetworkXError\u001b[0m\u001b[1;33m(\u001b[0m\u001b[1;34m\"flow_func has to be callable.\"\u001b[0m\u001b[1;33m)\u001b[0m\u001b[1;33m\u001b[0m\u001b[0m\n\u001b[0;32m    307\u001b[0m \u001b[1;33m\u001b[0m\u001b[0m\n\u001b[1;32m--> 308\u001b[1;33m     \u001b[0mR\u001b[0m \u001b[1;33m=\u001b[0m \u001b[0mflow_func\u001b[0m\u001b[1;33m(\u001b[0m\u001b[0mflowG\u001b[0m\u001b[1;33m,\u001b[0m \u001b[0m_s\u001b[0m\u001b[1;33m,\u001b[0m \u001b[0m_t\u001b[0m\u001b[1;33m,\u001b[0m \u001b[0mcapacity\u001b[0m\u001b[1;33m=\u001b[0m\u001b[0mcapacity\u001b[0m\u001b[1;33m,\u001b[0m \u001b[0mvalue_only\u001b[0m\u001b[1;33m=\u001b[0m\u001b[1;32mTrue\u001b[0m\u001b[1;33m,\u001b[0m \u001b[1;33m**\u001b[0m\u001b[0mkwargs\u001b[0m\u001b[1;33m)\u001b[0m\u001b[1;33m\u001b[0m\u001b[0m\n\u001b[0m\u001b[0;32m    309\u001b[0m \u001b[1;33m\u001b[0m\u001b[0m\n\u001b[0;32m    310\u001b[0m     \u001b[1;32mreturn\u001b[0m \u001b[0mR\u001b[0m\u001b[1;33m.\u001b[0m\u001b[0mgraph\u001b[0m\u001b[1;33m[\u001b[0m\u001b[1;34m'flow_value'\u001b[0m\u001b[1;33m]\u001b[0m\u001b[1;33m\u001b[0m\u001b[0m\n",
      "\u001b[1;32mC:\\IntelPython3\\lib\\site-packages\\networkx\\algorithms\\flow\\edmondskarp.py\u001b[0m in \u001b[0;36medmonds_karp\u001b[1;34m(G, s, t, capacity, residual, value_only, cutoff)\u001b[0m\n\u001b[0;32m    246\u001b[0m \u001b[1;33m\u001b[0m\u001b[0m\n\u001b[0;32m    247\u001b[0m     \"\"\"\n\u001b[1;32m--> 248\u001b[1;33m     \u001b[0mR\u001b[0m \u001b[1;33m=\u001b[0m \u001b[0medmonds_karp_impl\u001b[0m\u001b[1;33m(\u001b[0m\u001b[0mG\u001b[0m\u001b[1;33m,\u001b[0m \u001b[0ms\u001b[0m\u001b[1;33m,\u001b[0m \u001b[0mt\u001b[0m\u001b[1;33m,\u001b[0m \u001b[0mcapacity\u001b[0m\u001b[1;33m,\u001b[0m \u001b[0mresidual\u001b[0m\u001b[1;33m,\u001b[0m \u001b[0mcutoff\u001b[0m\u001b[1;33m)\u001b[0m\u001b[1;33m\u001b[0m\u001b[0m\n\u001b[0m\u001b[0;32m    249\u001b[0m     \u001b[0mR\u001b[0m\u001b[1;33m.\u001b[0m\u001b[0mgraph\u001b[0m\u001b[1;33m[\u001b[0m\u001b[1;34m'algorithm'\u001b[0m\u001b[1;33m]\u001b[0m \u001b[1;33m=\u001b[0m \u001b[1;34m'edmonds_karp'\u001b[0m\u001b[1;33m\u001b[0m\u001b[0m\n\u001b[0;32m    250\u001b[0m     \u001b[1;32mreturn\u001b[0m \u001b[0mR\u001b[0m\u001b[1;33m\u001b[0m\u001b[0m\n",
      "\u001b[1;32mC:\\IntelPython3\\lib\\site-packages\\networkx\\algorithms\\flow\\edmondskarp.py\u001b[0m in \u001b[0;36medmonds_karp_impl\u001b[1;34m(G, s, t, capacity, residual, cutoff)\u001b[0m\n\u001b[0;32m    119\u001b[0m     \u001b[1;31m# Initialize/reset the residual network.\u001b[0m\u001b[1;33m\u001b[0m\u001b[1;33m\u001b[0m\u001b[0m\n\u001b[0;32m    120\u001b[0m     \u001b[1;32mfor\u001b[0m \u001b[0mu\u001b[0m \u001b[1;32min\u001b[0m \u001b[0mR\u001b[0m\u001b[1;33m:\u001b[0m\u001b[1;33m\u001b[0m\u001b[0m\n\u001b[1;32m--> 121\u001b[1;33m         \u001b[1;32mfor\u001b[0m \u001b[0me\u001b[0m \u001b[1;32min\u001b[0m \u001b[0mR\u001b[0m\u001b[1;33m[\u001b[0m\u001b[0mu\u001b[0m\u001b[1;33m]\u001b[0m\u001b[1;33m.\u001b[0m\u001b[0mvalues\u001b[0m\u001b[1;33m(\u001b[0m\u001b[1;33m)\u001b[0m\u001b[1;33m:\u001b[0m\u001b[1;33m\u001b[0m\u001b[0m\n\u001b[0m\u001b[0;32m    122\u001b[0m             \u001b[0me\u001b[0m\u001b[1;33m[\u001b[0m\u001b[1;34m'flow'\u001b[0m\u001b[1;33m]\u001b[0m \u001b[1;33m=\u001b[0m \u001b[1;36m0\u001b[0m\u001b[1;33m\u001b[0m\u001b[0m\n\u001b[0;32m    123\u001b[0m \u001b[1;33m\u001b[0m\u001b[0m\n",
      "\u001b[1;32mC:\\IntelPython3\\lib\\_collections_abc.py\u001b[0m in \u001b[0;36m__iter__\u001b[1;34m(self)\u001b[0m\n\u001b[0;32m    760\u001b[0m     \u001b[1;32mdef\u001b[0m \u001b[0m__iter__\u001b[0m\u001b[1;33m(\u001b[0m\u001b[0mself\u001b[0m\u001b[1;33m)\u001b[0m\u001b[1;33m:\u001b[0m\u001b[1;33m\u001b[0m\u001b[0m\n\u001b[0;32m    761\u001b[0m         \u001b[1;32mfor\u001b[0m \u001b[0mkey\u001b[0m \u001b[1;32min\u001b[0m \u001b[0mself\u001b[0m\u001b[1;33m.\u001b[0m\u001b[0m_mapping\u001b[0m\u001b[1;33m:\u001b[0m\u001b[1;33m\u001b[0m\u001b[0m\n\u001b[1;32m--> 762\u001b[1;33m             \u001b[1;32myield\u001b[0m \u001b[0mself\u001b[0m\u001b[1;33m.\u001b[0m\u001b[0m_mapping\u001b[0m\u001b[1;33m[\u001b[0m\u001b[0mkey\u001b[0m\u001b[1;33m]\u001b[0m\u001b[1;33m\u001b[0m\u001b[0m\n\u001b[0m\u001b[0;32m    763\u001b[0m \u001b[1;33m\u001b[0m\u001b[0m\n\u001b[0;32m    764\u001b[0m \u001b[0mValuesView\u001b[0m\u001b[1;33m.\u001b[0m\u001b[0mregister\u001b[0m\u001b[1;33m(\u001b[0m\u001b[0mdict_values\u001b[0m\u001b[1;33m)\u001b[0m\u001b[1;33m\u001b[0m\u001b[0m\n",
      "\u001b[1;32mC:\\IntelPython3\\lib\\site-packages\\networkx\\classes\\coreviews.py\u001b[0m in \u001b[0;36m__getitem__\u001b[1;34m(self, key)\u001b[0m\n\u001b[0;32m     52\u001b[0m         \u001b[1;32mreturn\u001b[0m \u001b[0miter\u001b[0m\u001b[1;33m(\u001b[0m\u001b[0mself\u001b[0m\u001b[1;33m.\u001b[0m\u001b[0m_atlas\u001b[0m\u001b[1;33m)\u001b[0m\u001b[1;33m\u001b[0m\u001b[0m\n\u001b[0;32m     53\u001b[0m \u001b[1;33m\u001b[0m\u001b[0m\n\u001b[1;32m---> 54\u001b[1;33m     \u001b[1;32mdef\u001b[0m \u001b[0m__getitem__\u001b[0m\u001b[1;33m(\u001b[0m\u001b[0mself\u001b[0m\u001b[1;33m,\u001b[0m \u001b[0mkey\u001b[0m\u001b[1;33m)\u001b[0m\u001b[1;33m:\u001b[0m\u001b[1;33m\u001b[0m\u001b[0m\n\u001b[0m\u001b[0;32m     55\u001b[0m         \u001b[1;32mreturn\u001b[0m \u001b[0mself\u001b[0m\u001b[1;33m.\u001b[0m\u001b[0m_atlas\u001b[0m\u001b[1;33m[\u001b[0m\u001b[0mkey\u001b[0m\u001b[1;33m]\u001b[0m\u001b[1;33m\u001b[0m\u001b[0m\n\u001b[0;32m     56\u001b[0m \u001b[1;33m\u001b[0m\u001b[0m\n",
      "\u001b[1;31mKeyboardInterrupt\u001b[0m: "
     ]
    }
   ],
   "source": [
    "nx.average_node_connectivity(berlin_center_g)"
   ]
  },
  {
   "cell_type": "code",
   "execution_count": null,
   "metadata": {},
   "outputs": [],
   "source": []
  }
 ],
 "metadata": {
  "kernelspec": {
   "display_name": "Python 3",
   "language": "python",
   "name": "python3"
  },
  "language_info": {
   "codemirror_mode": {
    "name": "ipython",
    "version": 3
   },
   "file_extension": ".py",
   "mimetype": "text/x-python",
   "name": "python",
   "nbconvert_exporter": "python",
   "pygments_lexer": "ipython3",
   "version": "3.6.3"
  }
 },
 "nbformat": 4,
 "nbformat_minor": 2
}
