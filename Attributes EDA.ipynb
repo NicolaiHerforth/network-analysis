{
 "cells": [
  {
   "cell_type": "code",
   "execution_count": 127,
   "metadata": {
    "collapsed": true
   },
   "outputs": [],
   "source": [
    "import networkx as nx\n",
    "import pandas as pd\n",
    "import matplotlib.pyplot as plt\n",
    "from collections import Counter\n",
    "import numpy as np"
   ]
  },
  {
   "cell_type": "code",
   "execution_count": 8,
   "metadata": {
    "collapsed": true
   },
   "outputs": [],
   "source": [
    " G=nx.read_edgelist(\"complete_network.edgelist\")"
   ]
  },
  {
   "cell_type": "code",
   "execution_count": 142,
   "metadata": {},
   "outputs": [],
   "source": [
    "data = []\n",
    "col = []\n",
    "with open('complete_networld.edgelist') as file:\n",
    "    t = True\n",
    "    for f in file.readlines():\n",
    "        ind = set(f.split('{')[0].split(' ')[:2])\n",
    "        line_data = f.split('{')[1].split('}')[0].split(',')\n",
    "        #print(line_data)\n",
    "        newlist = []\n",
    "        newlist2 = []\n",
    "        for d in line_data:\n",
    "            #print(data.split(':')[1])\n",
    "            newlist.append(d.split(':')[1][1:])\n",
    "            if t == True:\n",
    "                newlist2.append(d.split(':')[0].split(\"'\")[1])\n",
    "        \n",
    "        if t == True:\n",
    "            col.append('index')\n",
    "            for x in newlist2:\n",
    "                col.append(x)\n",
    "                \n",
    "        t = False  \n",
    "        data.append([ind] + newlist)\n",
    "df = pd.DataFrame(data=data, columns=col)\n"
   ]
  },
  {
   "cell_type": "markdown",
   "metadata": {},
   "source": [
    "I would like to study each column to decide how to clean the data. "
   ]
  },
  {
   "cell_type": "code",
   "execution_count": 143,
   "metadata": {},
   "outputs": [],
   "source": [
    "columns = list(df.columns)"
   ]
  },
  {
   "cell_type": "code",
   "execution_count": 144,
   "metadata": {},
   "outputs": [
    {
     "data": {
      "text/plain": [
       "['index',\n",
       " 'capacity',\n",
       " 'toll',\n",
       " 'edge_type',\n",
       " 'speed_limit',\n",
       " 'free_flow_time',\n",
       " 'length',\n",
       " 'b',\n",
       " 'power']"
      ]
     },
     "execution_count": 144,
     "metadata": {},
     "output_type": "execute_result"
    }
   ],
   "source": [
    "columns"
   ]
  },
  {
   "cell_type": "code",
   "execution_count": 146,
   "metadata": {},
   "outputs": [
    {
     "name": "stdout",
     "output_type": "stream",
     "text": [
      "capacity\n",
      "8\n",
      "Pourcentage of zero-value capacity: \n",
      "Counter({'999999.0': 10542, '2400.0': 9303, '900.0': 6748, '2800.0': 3913, '600.0': 2208, '6000.0': 466, '300.0': 21, '10.0': 16})\n",
      "mean capacity:  1309.090525935515\n",
      "%inf values:  0.31736761296926275\n",
      "\n",
      "\n",
      "toll\n",
      "1\n",
      "\n",
      "\n",
      "edge_type\n",
      "2\n",
      "\n",
      "\n",
      "speed_limit\n",
      "1\n",
      "\n",
      "\n",
      "free_flow_time\n",
      "267\n",
      "\n",
      "\n",
      "length\n",
      "1540\n",
      "Pourcentage of zero-value length: \n",
      "0.3174278231026282\n",
      "\n",
      "\n",
      "b\n",
      "3\n",
      "only this:  Counter({'2.0': 19564, '0.0': 10542, '1.0': 3111})\n",
      "\n",
      "\n",
      "power\n",
      "1\n",
      "\n",
      "\n"
     ]
    }
   ],
   "source": [
    "for c in columns[1:]:\n",
    "    print(c)\n",
    "    cou = Counter(df[c])\n",
    "    print(len(cou))\n",
    "    if len(cou) == 3:\n",
    "        print('only this: ', cou)\n",
    "    \n",
    "    if c == 'length':\n",
    "        print('Pourcentage of zero-value length: ')\n",
    "        print(cou['0.0']/len(df))\n",
    "        \n",
    "    if c == 'capacity':\n",
    "        print('Pourcentage of zero-value capacity: ')\n",
    "        print(cou)\n",
    "        total = 0\n",
    "        for co in cou:\n",
    "            if co == '999999.0':\n",
    "                continue\n",
    "            num = float(co)*float(cou[co])\n",
    "            total += num\n",
    "        print('mean capacity: ', total/len(df))\n",
    "        print('%inf values: ', cou['999999.0']/len(df))\n",
    "    print('\\n')"
   ]
  },
  {
   "cell_type": "code",
   "execution_count": null,
   "metadata": {
    "collapsed": true
   },
   "outputs": [],
   "source": []
  }
 ],
 "metadata": {
  "kernelspec": {
   "display_name": "Python 3",
   "language": "python",
   "name": "python3"
  },
  "language_info": {
   "codemirror_mode": {
    "name": "ipython",
    "version": 3
   },
   "file_extension": ".py",
   "mimetype": "text/x-python",
   "name": "python",
   "nbconvert_exporter": "python",
   "pygments_lexer": "ipython3",
   "version": "3.6.1"
  }
 },
 "nbformat": 4,
 "nbformat_minor": 2
}
